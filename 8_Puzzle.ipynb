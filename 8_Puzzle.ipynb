{
  "nbformat": 4,
  "nbformat_minor": 0,
  "metadata": {
    "colab": {
      "name": "8_Puzzle.ipynb",
      "provenance": [],
      "collapsed_sections": [],
      "authorship_tag": "ABX9TyNW58CNNt95iva1IrxqUKxx"
    },
    "kernelspec": {
      "name": "python3",
      "display_name": "Python 3"
    },
    "language_info": {
      "name": "python"
    }
  },
  "cells": [
    {
      "cell_type": "markdown",
      "source": [
        "**Keadaan Puzzle diawal**"
      ],
      "metadata": {
        "id": "UdQzcaiUgH-F"
      }
    },
    {
      "cell_type": "code",
      "execution_count": 1,
      "metadata": {
        "colab": {
          "base_uri": "https://localhost:8080/"
        },
        "id": "6BXhc37HAKk3",
        "outputId": "fbfb0e0a-06c7-4766-87c0-405559c5fa93"
      },
      "outputs": [
        {
          "output_type": "stream",
          "name": "stdout",
          "text": [
            "[[7, 2, 4], [5, 0, 6], [8, 3, 1]]\n"
          ]
        }
      ],
      "source": [
        "start_state = [\n",
        "    [7 , 2 , 4],\n",
        "    [5 , 0 , 6],\n",
        "    [8 , 3 , 1]\n",
        "]\n",
        "print(start_state)"
      ]
    },
    {
      "cell_type": "markdown",
      "source": [
        "**Keadaan Puzzle yang diharapkan**"
      ],
      "metadata": {
        "id": "_P0wUmZJgWsr"
      }
    },
    {
      "cell_type": "code",
      "source": [
        "goal_state = {\n",
        "    0 : [0 , 0],\n",
        "    1 : [0 , 1],\n",
        "    2 : [0 , 2],\n",
        "    3 : [1 , 0],\n",
        "    4 : [1 , 1],\n",
        "    5 : [1 , 2],\n",
        "    6 : [2 , 0],\n",
        "    7 : [2 , 1],\n",
        "    8 : [2 , 2]   \n",
        "}\n",
        "print(goal_state)"
      ],
      "metadata": {
        "colab": {
          "base_uri": "https://localhost:8080/"
        },
        "id": "OOGLX4cwgZiG",
        "outputId": "4a20a65c-b7d0-404a-a37c-e8109a061a58"
      },
      "execution_count": 71,
      "outputs": [
        {
          "output_type": "stream",
          "name": "stdout",
          "text": [
            "{0: [0, 0], 1: [0, 1], 2: [0, 2], 3: [1, 0], 4: [1, 1], 5: [1, 2], 6: [2, 0], 7: [2, 1], 8: [2, 2]}\n"
          ]
        }
      ]
    },
    {
      "cell_type": "code",
      "source": [
        "class Node:\n",
        "  def __init__(self , state=None , location=None):\n",
        "    self.left = None\n",
        "    self.right = None\n",
        "    self.up = None\n",
        "    self.bottom = None\n",
        "    self.state = state\n",
        "    self.location = location\n",
        "class LinkedList:\n",
        "  def __init__(self , panjang , lebar):\n",
        "    self.data = []\n",
        "    self.panjang = panjang\n",
        "    self.lebar = lebar\n",
        "    self.phi = None\n",
        "  def setStartState(self , data):\n",
        "    count_row = 0\n",
        "    for x in data:\n",
        "      count_column = 0\n",
        "      data_y = []\n",
        "      for y in x:\n",
        "        data_y.append(Node(y , [count_row , count_column] ))\n",
        "        count_column = count_column + 1\n",
        "      self.data.append(data_y)\n",
        "      count_row = count_row +1\n",
        "  def getInformation(self):\n",
        "    he = {}\n",
        "    for x in self.data:\n",
        "      for y in x:\n",
        "        he[y.state] = y.location\n",
        "    return he\n",
        "  def setByDict(self , information):\n",
        "    for x in information.keys():\n",
        "      self.data[information[x][0]][information[x][1]] = Node(x , location=information[x])\n",
        "  def getNodeContainZero(self):\n",
        "    for x in self.data:\n",
        "      for y in x:\n",
        "        if y.state == 0:\n",
        "          return y\n",
        "  def setAction(self ):\n",
        "    count_row = 0\n",
        "    for x in self.data:\n",
        "      count_coloumn = 0\n",
        "      for y in x:\n",
        "        if count_coloumn == 0 and count_row == 0:\n",
        "          # Setting Tile Row 0 and Column 0\n",
        "          #print(\"Position 1\")\n",
        "          y.left = None\n",
        "          y.up = None\n",
        "          y.bottom = self.data[count_row+1][count_coloumn]\n",
        "          y.right = self.data[count_row][count_coloumn+1]\n",
        "        elif count_row == 0 and count_coloumn == (self.panjang-1):\n",
        "          # Srtting Tile Row 0 and Last Coloumn\n",
        "          #print(\"Position 3\")\n",
        "          y.right = None\n",
        "          y.up = None\n",
        "          y.left = self.data[count_row][count_coloumn-1]\n",
        "          y.bottom = self.data[count_row+1][count_coloumn]\n",
        "        elif count_row == 0 and count_coloumn != 0 and count_coloumn != (self.panjang-1):\n",
        "          # Setting Tile in The Middle in Row 0\n",
        "          #print(\"Position 2\")\n",
        "          y.right = self.data[count_row][count_coloumn+1]\n",
        "          y.left = self.data[count_row][count_coloumn+1]\n",
        "          y.up = None\n",
        "          y.bottom = self.data[count_row+1][count_coloumn]\n",
        "        elif count_row != 0 and count_row != (self.lebar-1) and count_coloumn != 0 and count_coloumn != (self.panjang -1):\n",
        "          # Setting Tile int The mIddle Not in First Row and Last Row\n",
        "          #print(\"Position 5\")\n",
        "          y.left = self.data[count_row][count_coloumn-1]\n",
        "          y.right = self.data[count_row][count_coloumn+1]\n",
        "          y.bottom = self.data[count_row+1][count_coloumn]\n",
        "          y.up = self.data[count_row-1][count_coloumn]\n",
        "        elif count_row != 0 and count_row != (self.lebar-1) and count_coloumn ==0:\n",
        "          # Setting Tile in the middle Row and First Column\n",
        "          #print(\"Positoin 4 \")\n",
        "          y.up = self.data[count_row-1][count_coloumn]\n",
        "          y.left = None\n",
        "          y.right = self.data[count_row][count_coloumn+1]\n",
        "          y.bottom  = self.data[count_row+1][count_coloumn]\n",
        "        elif count_coloumn == (self.panjang -1) and count_row != 0 and count_row != (self.lebar -1 ):\n",
        "          # Setting Tile in the middle Row and Last Column \n",
        "          #print(\"Position 6\")\n",
        "          y.up = self.data[count_row-1][count_coloumn]\n",
        "          y.bottom =  self.data[count_row+1][count_coloumn]\n",
        "          y.left = self.data[count_row][count_coloumn-1]\n",
        "          y.right = None\n",
        "        elif count_row == (self.lebar-1) and count_coloumn==0:\n",
        "          # Setting Tile in last Row and first Coloumn \n",
        "          #print(\"Position 7\")\n",
        "          y.left = None\n",
        "          y.bottom  = None\n",
        "          y.up = self.data[count_row-1][count_coloumn] \n",
        "          y.right = self.data[count_row][count_coloumn+1]\n",
        "        elif count_row == (self.lebar-1) and count_coloumn == (self.panjang-1):\n",
        "          # Setting Tile in Last Row and Last Coloumn\n",
        "          #print(\"Position 9\")\n",
        "          y.right = None\n",
        "          y.up = self.data[count_row-1][count_coloumn]\n",
        "          y.left = self.data[count_row][count_coloumn-1]\n",
        "          y.bottom = None\n",
        "        elif count_row == (self.lebar -1) and count_coloumn != 0 and count_coloumn != (self.panjang-1):\n",
        "          # Seeting Tile in Last Row and Middle Coloumn\n",
        "          #print(\"Position 8\")\n",
        "          y.right = self.data[count_row][count_coloumn+1]\n",
        "          y.up = self.data[count_row-1][count_coloumn]\n",
        "          y.bottom  = None\n",
        "          y.left = self.data[count_row][count_coloumn-1]\n",
        "        count_coloumn = count_coloumn +1\n",
        "      count_row = count_row +1     "
      ],
      "metadata": {
        "id": "l84uQJHNAziC"
      },
      "execution_count": 84,
      "outputs": []
    },
    {
      "cell_type": "code",
      "source": [
        "from queue import Queue"
      ],
      "metadata": {
        "id": "xtw-i9lGRIY_"
      },
      "execution_count": 5,
      "outputs": []
    },
    {
      "cell_type": "code",
      "source": [
        "import copy"
      ],
      "metadata": {
        "id": "KHn4oviwonII"
      },
      "execution_count": 47,
      "outputs": []
    },
    {
      "cell_type": "code",
      "source": [
        "def isNotInExplored(explored , currentDict):\n",
        "  for x in explored:\n",
        "    if x==currentDict:\n",
        "      return False\n",
        "  return True"
      ],
      "metadata": {
        "id": "4E0xz6HRsbSg"
      },
      "execution_count": 59,
      "outputs": []
    },
    {
      "cell_type": "code",
      "source": [
        "def do_test( data, goal ):\n",
        "  if data[0] == goal[0] and data[1] == goal[1] and data[2] == goal[2]:\n",
        "    return True\n",
        "  return False"
      ],
      "metadata": {
        "id": "PNJ2BhpG3Dt6"
      },
      "execution_count": 78,
      "outputs": []
    },
    {
      "cell_type": "code",
      "source": [
        ""
      ],
      "metadata": {
        "id": "6PmFMtFv7kbV"
      },
      "execution_count": null,
      "outputs": []
    },
    {
      "cell_type": "code",
      "source": [
        "def do_breadth_first(problem ,  start , goal):\n",
        "  puzzle = LinkedList(3 , 3)\n",
        "  # Save value problem in Node\n",
        "  puzzle.setStartState(problem)\n",
        "  # Link every node to up , bottom , left , and right node\n",
        "  puzzle.setAction()\n",
        "\n",
        "\n",
        "  q = Queue()\n",
        "  dict_node = {}\n",
        "  \n",
        "  temp = puzzle.getInformation()\n",
        "  # Explored save every state and location\n",
        "  # So there is function to check if current state have been explored by location and state \n",
        "  explored = []\n",
        "\n",
        "  q.put(puzzle)\n",
        "  explored.append(temp)\n",
        "  count = 0\n",
        "  list_state = []\n",
        "  while q.qsize() != 0:\n",
        "    # if count ==3 :\n",
        "    #   break\n",
        "    u = q.get()\n",
        "    parent = None\n",
        "    for x in u.data:\n",
        "      for y in x:\n",
        "        if y.state == 0:\n",
        "          parent = y\n",
        "          break\n",
        "\n",
        "    if parent.left:\n",
        "      stateParentLeft = parent.left.state\n",
        "      uTemp = copy.deepcopy(u)\n",
        "      tempFirst = None\n",
        "      tempSecond = None\n",
        "      for x in uTemp.data:\n",
        "        for y in x:\n",
        "          if y.state == stateParentLeft:\n",
        "            tempFirst = y\n",
        "          if y.state == 0:\n",
        "            tempSecond = y\n",
        "      temp = tempFirst.state\n",
        "      tempFirst.state = tempSecond.state\n",
        "      tempSecond.state = temp\n",
        "      infoDict = uTemp.getInformation()\n",
        "      if do_test(infoDict , goal):\n",
        "        print(\"LEFT\")\n",
        "        uTemp.phi = u\n",
        "        list_state.append(uTemp)\n",
        "        last = list_state[-1]\n",
        "        while last :\n",
        "          print(last.getInformation())\n",
        "          last = last.phi\n",
        "\n",
        "        break\n",
        "      if isNotInExplored(explored , infoDict):\n",
        "        explored.append(infoDict)\n",
        "        uTemp.phi = u\n",
        "        list_state.append(uTemp)\n",
        "        q.put(uTemp)\n",
        "    if parent.right:\n",
        "      stateParentRight = parent.right.state\n",
        "      uTempRight = copy.deepcopy(u)\n",
        "      tempFirst = None\n",
        "      tempSecond = None\n",
        "      for x in uTempRight.data:\n",
        "        for y in x:\n",
        "          if y.state == stateParentRight:\n",
        "            tempFirst = y\n",
        "          if y.state == 0:\n",
        "            tempSecond = y\n",
        "      temp = tempFirst.state\n",
        "      tempFirst.state = tempSecond.state\n",
        "      tempSecond.state = temp\n",
        "      infoDict = uTempRight.getInformation()\n",
        "      if do_test(infoDict , goal):\n",
        "        print(\"RIGHT\")\n",
        "        uTempRight.phi = u\n",
        "        list_state.append(uTempRight)\n",
        "        last = list_state[-1]\n",
        "        while last :\n",
        "          print(last.getInformation())\n",
        "          last = last.phi\n",
        "          \n",
        "        break\n",
        "      if isNotInExplored(explored , infoDict):\n",
        "        explored.append(infoDict)\n",
        "        uTempRight.phi = u\n",
        "        list_state.append(uTempRight)\n",
        "        q.put(uTempRight)\n",
        "    if parent.up: \n",
        "      stateParentUp = parent.up.state\n",
        "      uTempUp = copy.deepcopy(u)\n",
        "      tempFirst = None\n",
        "      tempSecond = None\n",
        "      for x in uTempUp.data:\n",
        "        for y in x:\n",
        "          if y.state ==stateParentUp:\n",
        "            tempFirst = y\n",
        "          if y.state ==0:\n",
        "            tempSecond = y\n",
        "      temp = tempFirst.state\n",
        "      tempFirst.state = tempSecond.state\n",
        "      tempSecond.state = temp\n",
        "\n",
        "      infoDict = uTempUp.getInformation()\n",
        "      if do_test(infoDict , goal):\n",
        "        print(\"UP\")\n",
        "        uTempUp.phi = u\n",
        "        print(u.getInformation())\n",
        "        print()\n",
        "        list_state.append(uTempUp)\n",
        "        last = list_state[-1]\n",
        "        while last :\n",
        "          print(last.getInformation())\n",
        "          last = last.phi\n",
        "          \n",
        "        break\n",
        "      if isNotInExplored(explored , infoDict):\n",
        "        explored.append(infoDict)\n",
        "        uTempUp.phi = u\n",
        "        list_state.append(uTempUp)\n",
        "        q.put(uTempUp)\n",
        "    if parent.bottom:\n",
        "      stateParentBottom = parent.bottom.state\n",
        "      uTempBottom = copy.deepcopy(u)\n",
        "      tempFirst = None\n",
        "      tempSecond = None\n",
        "      for x in uTempBottom.data:\n",
        "        for y in x:\n",
        "          if y.state == stateParentBottom:\n",
        "            tempFirst = y\n",
        "          if y.state == 0:\n",
        "            tempSecond = y\n",
        "      temp = tempFirst.state\n",
        "      tempFirst.state = tempSecond.state\n",
        "      tempSecond.state = temp\n",
        "      \n",
        "      infoDict = uTempBottom.getInformation()\n",
        "      if do_test(infoDict , goal):\n",
        "        print(\"BOTTOM\")\n",
        "        uTempBottom.phi = u\n",
        "        list_state.append(uTempBottom)\n",
        "        last = list_state[-1]\n",
        "        while last :\n",
        "          print(last.getInformation())\n",
        "          last = last.phi\n",
        "          \n",
        "        break\n",
        "      if isNotInExplored(explored , infoDict):\n",
        "        explored.append(infoDict)\n",
        "        uTempBottom.phi = u\n",
        "        list_state.append(uTempBottom)\n",
        "        q.put(uTempBottom)\n",
        "    # print(\"COUNT : \" , count)\n",
        "    # for x in explored:\n",
        "    #   print(x)\n",
        "    # count = count+1 \n",
        "\n",
        "  \n",
        "    \n",
        "\n",
        "do_breadth_first(start_state , 8 , goal_state)\n",
        "\n",
        "\n"
      ],
      "metadata": {
        "colab": {
          "base_uri": "https://localhost:8080/"
        },
        "id": "29qlH1-yE8dc",
        "outputId": "0a068c31-2608-4520-80d9-f7f6c35a54b7"
      },
      "execution_count": 95,
      "outputs": [
        {
          "output_type": "stream",
          "name": "stdout",
          "text": [
            "UP\n",
            "{7: [0, 0], 1: [0, 1], 2: [0, 2], 0: [1, 0], 5: [1, 1], 4: [1, 2], 8: [2, 0], 6: [2, 1], 3: [2, 2]}\n",
            "\n",
            "{0: [0, 0], 1: [0, 1], 2: [0, 2], 7: [1, 0], 5: [1, 1], 4: [1, 2], 8: [2, 0], 6: [2, 1], 3: [2, 2]}\n",
            "{7: [0, 0], 1: [0, 1], 2: [0, 2], 0: [1, 0], 5: [1, 1], 4: [1, 2], 8: [2, 0], 6: [2, 1], 3: [2, 2]}\n",
            "{7: [0, 0], 1: [0, 1], 2: [0, 2], 5: [1, 0], 0: [1, 1], 4: [1, 2], 8: [2, 0], 6: [2, 1], 3: [2, 2]}\n",
            "{7: [0, 0], 0: [0, 1], 2: [0, 2], 5: [1, 0], 1: [1, 1], 4: [1, 2], 8: [2, 0], 6: [2, 1], 3: [2, 2]}\n",
            "{7: [0, 0], 2: [0, 1], 0: [0, 2], 5: [1, 0], 1: [1, 1], 4: [1, 2], 8: [2, 0], 6: [2, 1], 3: [2, 2]}\n",
            "{7: [0, 0], 2: [0, 1], 4: [0, 2], 5: [1, 0], 1: [1, 1], 0: [1, 2], 8: [2, 0], 6: [2, 1], 3: [2, 2]}\n",
            "{7: [0, 0], 2: [0, 1], 4: [0, 2], 5: [1, 0], 0: [1, 1], 1: [1, 2], 8: [2, 0], 6: [2, 1], 3: [2, 2]}\n",
            "{7: [0, 0], 2: [0, 1], 4: [0, 2], 5: [1, 0], 6: [1, 1], 1: [1, 2], 8: [2, 0], 0: [2, 1], 3: [2, 2]}\n",
            "{7: [0, 0], 2: [0, 1], 4: [0, 2], 5: [1, 0], 6: [1, 1], 1: [1, 2], 8: [2, 0], 3: [2, 1], 0: [2, 2]}\n",
            "{7: [0, 0], 2: [0, 1], 4: [0, 2], 5: [1, 0], 6: [1, 1], 0: [1, 2], 8: [2, 0], 3: [2, 1], 1: [2, 2]}\n",
            "{7: [0, 0], 2: [0, 1], 4: [0, 2], 5: [1, 0], 0: [1, 1], 6: [1, 2], 8: [2, 0], 3: [2, 1], 1: [2, 2]}\n"
          ]
        }
      ]
    },
    {
      "cell_type": "code",
      "source": [
        "q = Queue()\n",
        "q.put(2)\n",
        "q.put(3)\n",
        "q.put(10)\n",
        "q.put(11)\n",
        "print(q.get())\n",
        "print(q.get())"
      ],
      "metadata": {
        "colab": {
          "base_uri": "https://localhost:8080/"
        },
        "id": "lmq-T4Q7QzCc",
        "outputId": "25344b18-60b3-4ed0-e3f0-8e43a7717613"
      },
      "execution_count": 8,
      "outputs": [
        {
          "output_type": "stream",
          "name": "stdout",
          "text": [
            "2\n",
            "3\n"
          ]
        }
      ]
    },
    {
      "cell_type": "code",
      "source": [
        "class Node:\n",
        "  def __init__(self , data):\n",
        "    self.data = data\n",
        "    self.next = None\n",
        "class LinkedList:\n",
        "  def __init__(self):\n",
        "    self.head = None\n",
        "  def insertData(self , data):\n",
        "    newState = Node(data)\n",
        "    if self.head:\n",
        "      current = self.head\n",
        "      while current.next:\n",
        "        current = current.next\n",
        "      current.next = newState\n",
        "    else:\n",
        "      self.head = newState\n",
        "  def do_print(self):\n",
        "    current = self.head\n",
        "    while current:\n",
        "      print(current)\n",
        "      print(current.data)\n",
        "      current = current.next\n",
        "  def changeData(self , state_first , state_second):\n",
        "    current = self.head\n",
        "    tempFirst = None\n",
        "    tempSecond = None\n",
        "    while current :\n",
        "      if current.data == state_first:\n",
        "        tempFirst = current\n",
        "      if current.data == state_second:\n",
        "        tempSecond = current\n",
        "      current = current.next\n",
        "    temp = tempFirst.data\n",
        "    tempFirst.data = tempSecond.data\n",
        "    tempSecond.data = temp\n",
        "\n"
      ],
      "metadata": {
        "id": "wGC-JFJORlm-"
      },
      "execution_count": 24,
      "outputs": []
    },
    {
      "cell_type": "code",
      "source": [
        "example = LinkedList()\n",
        "example.insertData(100)\n",
        "example.insertData(20)\n",
        "example.insertData(300)\n",
        "example.do_print()\n",
        "print()\n",
        "example.changeData(20 , 300)\n",
        "example.do_print()"
      ],
      "metadata": {
        "colab": {
          "base_uri": "https://localhost:8080/"
        },
        "id": "QioLYqpxhVxT",
        "outputId": "b0f5247c-d0ab-4d15-fa71-c2d5c3ac3682"
      },
      "execution_count": 25,
      "outputs": [
        {
          "output_type": "stream",
          "name": "stdout",
          "text": [
            "<__main__.Node object at 0x7f6ddef43390>\n",
            "100\n",
            "<__main__.Node object at 0x7f6ddef43910>\n",
            "20\n",
            "<__main__.Node object at 0x7f6ddeee91d0>\n",
            "300\n",
            "\n",
            "<__main__.Node object at 0x7f6ddef43390>\n",
            "100\n",
            "<__main__.Node object at 0x7f6ddef43910>\n",
            "300\n",
            "<__main__.Node object at 0x7f6ddeee91d0>\n",
            "20\n"
          ]
        }
      ]
    },
    {
      "cell_type": "code",
      "source": [
        ""
      ],
      "metadata": {
        "id": "95EGJ_6Mhkkd"
      },
      "execution_count": null,
      "outputs": []
    }
  ]
}